{
 "cells": [
  {
   "cell_type": "code",
   "execution_count": 1,
   "id": "e7110d97-43a3-43ea-b5f1-4f31227ce4e9",
   "metadata": {},
   "outputs": [],
   "source": [
    "import pandas as pd\n",
    "import numpy as np\n",
    "import matplotlib.pyplot as plt"
   ]
  },
  {
   "cell_type": "code",
   "execution_count": 2,
   "id": "c4fe6dc6-12f0-4c69-a762-5b8b63f503ef",
   "metadata": {},
   "outputs": [],
   "source": [
    "# what is the probability of getting blackjack from 2 drawn cards from a standard deck of 52?\n",
    "# tens = 10, J, Q, K; aces = A\n",
    "# probability of drawing a ten and then an ace = 16/52 * 4/51 = 16/663\n",
    "# probability of drawing an ace and then a ten = 4/52 * 16/51 = 16/663\n",
    "# probability of drawing blackjack = 32/663 = 4.83%"
   ]
  },
  {
   "cell_type": "code",
   "execution_count": 22,
   "id": "72a13ac9-4113-4c1e-9294-6548847706ae",
   "metadata": {},
   "outputs": [],
   "source": [
    "suits = [\"H\", \"S\", \"D\", \"C\"]\n",
    "cards = [\"A\", \"2\", \"3\", \"4\", \"5\", \"6\", \"7\", \"8\", \"9\", \"10\", \"J\", \"Q\", \"K\"]\n",
    "values = {\"A\": 11, \"J\": 10, \"Q\": 10, \"K\": 10}"
   ]
  },
  {
   "cell_type": "code",
   "execution_count": 37,
   "id": "d089a467-6b61-447c-aa2e-229f220461d2",
   "metadata": {},
   "outputs": [],
   "source": [
    "def get_value(card: str) -> int:\n",
    "    value = values.get(card)\n",
    "    return int(card) if value is None else value"
   ]
  },
  {
   "cell_type": "code",
   "execution_count": 38,
   "id": "bfaa6b2b-aeb0-477c-8391-71de3f87782d",
   "metadata": {},
   "outputs": [
    {
     "data": {
      "text/html": [
       "<div>\n",
       "<style scoped>\n",
       "    .dataframe tbody tr th:only-of-type {\n",
       "        vertical-align: middle;\n",
       "    }\n",
       "\n",
       "    .dataframe tbody tr th {\n",
       "        vertical-align: top;\n",
       "    }\n",
       "\n",
       "    .dataframe thead th {\n",
       "        text-align: right;\n",
       "    }\n",
       "</style>\n",
       "<table border=\"1\" class=\"dataframe\">\n",
       "  <thead>\n",
       "    <tr style=\"text-align: right;\">\n",
       "      <th></th>\n",
       "      <th>suit</th>\n",
       "      <th>card</th>\n",
       "      <th>value</th>\n",
       "    </tr>\n",
       "  </thead>\n",
       "  <tbody>\n",
       "    <tr>\n",
       "      <th>0</th>\n",
       "      <td>H</td>\n",
       "      <td>A</td>\n",
       "      <td>11</td>\n",
       "    </tr>\n",
       "    <tr>\n",
       "      <th>1</th>\n",
       "      <td>H</td>\n",
       "      <td>2</td>\n",
       "      <td>2</td>\n",
       "    </tr>\n",
       "    <tr>\n",
       "      <th>2</th>\n",
       "      <td>H</td>\n",
       "      <td>3</td>\n",
       "      <td>3</td>\n",
       "    </tr>\n",
       "    <tr>\n",
       "      <th>3</th>\n",
       "      <td>H</td>\n",
       "      <td>4</td>\n",
       "      <td>4</td>\n",
       "    </tr>\n",
       "    <tr>\n",
       "      <th>4</th>\n",
       "      <td>H</td>\n",
       "      <td>5</td>\n",
       "      <td>5</td>\n",
       "    </tr>\n",
       "  </tbody>\n",
       "</table>\n",
       "</div>"
      ],
      "text/plain": [
       "  suit card  value\n",
       "0    H    A     11\n",
       "1    H    2      2\n",
       "2    H    3      3\n",
       "3    H    4      4\n",
       "4    H    5      5"
      ]
     },
     "execution_count": 38,
     "metadata": {},
     "output_type": "execute_result"
    }
   ],
   "source": [
    "deck = [{\"suit\": suit, \"card\": card, \"value\": get_value(card)} for suit in suits for card in cards]\n",
    "deck_df = pd.DataFrame(deck)\n",
    "deck_df.head()"
   ]
  },
  {
   "cell_type": "code",
   "execution_count": 92,
   "id": "753e02f2-31d1-42f7-b154-36bb35e66038",
   "metadata": {},
   "outputs": [],
   "source": [
    "# give score = 1 if 21, 0 if not\n",
    "counts = []\n",
    "\n",
    "for _ in range(100):\n",
    "    two_cards = deck_df.sample(2, replace=False).reset_index(drop=True)\n",
    "    is_21 = two_cards[\"value\"].sum() == 21\n",
    "    counts.append(1 if is_21 else 0)"
   ]
  },
  {
   "cell_type": "code",
   "execution_count": 93,
   "id": "47b93fda-bef8-4703-8e19-fea02167c83e",
   "metadata": {},
   "outputs": [
    {
     "data": {
      "text/plain": [
       "0.05"
      ]
     },
     "execution_count": 93,
     "metadata": {},
     "output_type": "execute_result"
    }
   ],
   "source": [
    "count_21 = sum(counts)\n",
    "p = count_21 / len(counts)\n",
    "p"
   ]
  },
  {
   "cell_type": "code",
   "execution_count": 99,
   "id": "df3df780-e9f1-4720-ba88-19c143ea5cce",
   "metadata": {},
   "outputs": [
    {
     "data": {
      "text/plain": [
       "np.float64(0.021794494717703367)"
      ]
     },
     "execution_count": 99,
     "metadata": {},
     "output_type": "execute_result"
    }
   ],
   "source": [
    "sigma = np.sqrt(p * (1 - p))\n",
    "std_err = sigma / np.sqrt(100)\n",
    "std_err"
   ]
  },
  {
   "cell_type": "code",
   "execution_count": 100,
   "id": "29ca92d6-ba3e-410f-b0cd-4f0e65b3fb90",
   "metadata": {},
   "outputs": [
    {
     "data": {
      "text/plain": [
       "[np.float64(0.6411010564593269), np.float64(9.358898943540673)]"
      ]
     },
     "execution_count": 100,
     "metadata": {},
     "output_type": "execute_result"
    }
   ],
   "source": [
    "ci_min = max(100 * (p - 2 * std_err), 0)\n",
    "ci_max = min(100 * (p + 2 * std_err), 100)\n",
    "ci = [ci_min, ci_max]\n",
    "ci"
   ]
  },
  {
   "cell_type": "code",
   "execution_count": 102,
   "id": "75679712-02e5-492a-8a4f-c51767b71dc4",
   "metadata": {},
   "outputs": [
    {
     "data": {
      "text/plain": [
       "0.969"
      ]
     },
     "execution_count": 102,
     "metadata": {},
     "output_type": "execute_result"
    }
   ],
   "source": [
    "sample_means = []\n",
    "\n",
    "for _ in range(1000):\n",
    "    counts = []\n",
    "\n",
    "    for _ in range(100):\n",
    "        two_cards = deck_df.sample(2, replace=False).reset_index(drop=True)\n",
    "        is_21 = two_cards[\"value\"].sum() == 21\n",
    "        counts.append(1 if is_21 else 0)\n",
    "    \n",
    "    sample_means.append(100 * sum(counts) / len(counts))\n",
    "\n",
    "inside_ci = 0\n",
    "\n",
    "for sample_mean in sample_means:\n",
    "    if sample_mean >= ci[0] and sample_mean <= ci[1]:\n",
    "        inside_ci += 1\n",
    "\n",
    "inside_ci / len(sample_means)"
   ]
  },
  {
   "cell_type": "code",
   "execution_count": null,
   "id": "83afc9cc-373a-4da9-91cd-130178de37cf",
   "metadata": {},
   "outputs": [],
   "source": []
  }
 ],
 "metadata": {
  "kernelspec": {
   "display_name": "Python 3 (ipykernel)",
   "language": "python",
   "name": "python3"
  },
  "language_info": {
   "codemirror_mode": {
    "name": "ipython",
    "version": 3
   },
   "file_extension": ".py",
   "mimetype": "text/x-python",
   "name": "python",
   "nbconvert_exporter": "python",
   "pygments_lexer": "ipython3",
   "version": "3.11.9"
  }
 },
 "nbformat": 4,
 "nbformat_minor": 5
}
