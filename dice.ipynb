{
 "cells": [
  {
   "cell_type": "code",
   "execution_count": 7,
   "id": "b1a89caa-4f10-4cb8-9578-ded1e0ca94ad",
   "metadata": {},
   "outputs": [],
   "source": [
    "import pandas as pd\n",
    "import numpy as np\n",
    "import matplotlib.pyplot as plt"
   ]
  },
  {
   "cell_type": "code",
   "execution_count": 66,
   "id": "1e895265-e152-4058-ad16-565165bfb434",
   "metadata": {},
   "outputs": [
    {
     "data": {
      "text/html": [
       "<div>\n",
       "<style scoped>\n",
       "    .dataframe tbody tr th:only-of-type {\n",
       "        vertical-align: middle;\n",
       "    }\n",
       "\n",
       "    .dataframe tbody tr th {\n",
       "        vertical-align: top;\n",
       "    }\n",
       "\n",
       "    .dataframe thead th {\n",
       "        text-align: right;\n",
       "    }\n",
       "</style>\n",
       "<table border=\"1\" class=\"dataframe\">\n",
       "  <thead>\n",
       "    <tr style=\"text-align: right;\">\n",
       "      <th></th>\n",
       "      <th>side</th>\n",
       "    </tr>\n",
       "  </thead>\n",
       "  <tbody>\n",
       "    <tr>\n",
       "      <th>0</th>\n",
       "      <td>1</td>\n",
       "    </tr>\n",
       "    <tr>\n",
       "      <th>1</th>\n",
       "      <td>2</td>\n",
       "    </tr>\n",
       "    <tr>\n",
       "      <th>2</th>\n",
       "      <td>3</td>\n",
       "    </tr>\n",
       "    <tr>\n",
       "      <th>3</th>\n",
       "      <td>4</td>\n",
       "    </tr>\n",
       "    <tr>\n",
       "      <th>4</th>\n",
       "      <td>5</td>\n",
       "    </tr>\n",
       "    <tr>\n",
       "      <th>5</th>\n",
       "      <td>6</td>\n",
       "    </tr>\n",
       "  </tbody>\n",
       "</table>\n",
       "</div>"
      ],
      "text/plain": [
       "   side\n",
       "0     1\n",
       "1     2\n",
       "2     3\n",
       "3     4\n",
       "4     5\n",
       "5     6"
      ]
     },
     "execution_count": 66,
     "metadata": {},
     "output_type": "execute_result"
    }
   ],
   "source": [
    "dice_df = pd.DataFrame({\"side\": [i for i in range(1, 7)]})\n",
    "dice_df"
   ]
  },
  {
   "cell_type": "code",
   "execution_count": 67,
   "id": "27217470-8b8f-4048-8296-85c4e1bdaa6b",
   "metadata": {},
   "outputs": [
    {
     "data": {
      "text/html": [
       "<div>\n",
       "<style scoped>\n",
       "    .dataframe tbody tr th:only-of-type {\n",
       "        vertical-align: middle;\n",
       "    }\n",
       "\n",
       "    .dataframe tbody tr th {\n",
       "        vertical-align: top;\n",
       "    }\n",
       "\n",
       "    .dataframe thead th {\n",
       "        text-align: right;\n",
       "    }\n",
       "</style>\n",
       "<table border=\"1\" class=\"dataframe\">\n",
       "  <thead>\n",
       "    <tr style=\"text-align: right;\">\n",
       "      <th></th>\n",
       "      <th>side</th>\n",
       "    </tr>\n",
       "  </thead>\n",
       "  <tbody>\n",
       "    <tr>\n",
       "      <th>0</th>\n",
       "      <td>1</td>\n",
       "    </tr>\n",
       "    <tr>\n",
       "      <th>1</th>\n",
       "      <td>1</td>\n",
       "    </tr>\n",
       "    <tr>\n",
       "      <th>2</th>\n",
       "      <td>2</td>\n",
       "    </tr>\n",
       "    <tr>\n",
       "      <th>3</th>\n",
       "      <td>1</td>\n",
       "    </tr>\n",
       "    <tr>\n",
       "      <th>4</th>\n",
       "      <td>3</td>\n",
       "    </tr>\n",
       "  </tbody>\n",
       "</table>\n",
       "</div>"
      ],
      "text/plain": [
       "   side\n",
       "0     1\n",
       "1     1\n",
       "2     2\n",
       "3     1\n",
       "4     3"
      ]
     },
     "execution_count": 67,
     "metadata": {},
     "output_type": "execute_result"
    }
   ],
   "source": [
    "dice_rolls = dice_df.sample(n=1000000, replace=True).reset_index(drop=True)\n",
    "dice_rolls.head()"
   ]
  },
  {
   "cell_type": "code",
   "execution_count": 68,
   "id": "603df4c4-8c51-4c5f-b47b-e5c5c9c8892e",
   "metadata": {},
   "outputs": [
    {
     "data": {
      "image/png": "[encoded data removed]",
      "text/plain": [
       "<Figure size 640x480 with 1 Axes>"
      ]
     },
     "metadata": {},
     "output_type": "display_data"
    }
   ],
   "source": [
    "fig, ax = plt.subplots()\n",
    "\n",
    "ax.hist(x=dice_rolls, bins=[1,2,3,4,5,6,7], edgecolor='white', linewidth=1.2)\n",
    "ax.set_xlabel(\"Roll value\")\n",
    "ax.set_ylabel(\"Frequency\")\n",
    "\n",
    "plt.show()"
   ]
  },
  {
   "cell_type": "code",
   "execution_count": 69,
   "id": "35399e6d-8543-4b18-a321-988cd38af719",
   "metadata": {},
   "outputs": [
    {
     "data": {
      "text/plain": [
       "side    3.5\n",
       "dtype: float64"
      ]
     },
     "execution_count": 69,
     "metadata": {},
     "output_type": "execute_result"
    }
   ],
   "source": [
    "expected_value = (dice_df * (1/6)).sum()\n",
    "expected_value"
   ]
  },
  {
   "cell_type": "code",
   "execution_count": 70,
   "id": "91449905-389b-4b11-90e5-8d44e85124a9",
   "metadata": {},
   "outputs": [
    {
     "data": {
      "text/html": [
       "<div>\n",
       "<style scoped>\n",
       "    .dataframe tbody tr th:only-of-type {\n",
       "        vertical-align: middle;\n",
       "    }\n",
       "\n",
       "    .dataframe tbody tr th {\n",
       "        vertical-align: top;\n",
       "    }\n",
       "\n",
       "    .dataframe thead th {\n",
       "        text-align: right;\n",
       "    }\n",
       "</style>\n",
       "<table border=\"1\" class=\"dataframe\">\n",
       "  <thead>\n",
       "    <tr style=\"text-align: right;\">\n",
       "      <th></th>\n",
       "      <th>side</th>\n",
       "    </tr>\n",
       "  </thead>\n",
       "  <tbody>\n",
       "    <tr>\n",
       "      <th>0</th>\n",
       "      <td>6</td>\n",
       "    </tr>\n",
       "    <tr>\n",
       "      <th>1</th>\n",
       "      <td>5</td>\n",
       "    </tr>\n",
       "    <tr>\n",
       "      <th>2</th>\n",
       "      <td>5</td>\n",
       "    </tr>\n",
       "    <tr>\n",
       "      <th>3</th>\n",
       "      <td>4</td>\n",
       "    </tr>\n",
       "    <tr>\n",
       "      <th>4</th>\n",
       "      <td>6</td>\n",
       "    </tr>\n",
       "  </tbody>\n",
       "</table>\n",
       "</div>"
      ],
      "text/plain": [
       "   side\n",
       "0     6\n",
       "1     5\n",
       "2     5\n",
       "3     4\n",
       "4     6"
      ]
     },
     "execution_count": 70,
     "metadata": {},
     "output_type": "execute_result"
    }
   ],
   "source": [
    "# take a random sample of min 30 rolls\n",
    "sample_rolls = dice_df.sample(n=30, replace=True).reset_index(drop=True)\n",
    "sample_rolls.head()"
   ]
  },
  {
   "cell_type": "code",
   "execution_count": 71,
   "id": "165c6de0-ffdc-4768-bca8-047514b9558a",
   "metadata": {},
   "outputs": [
    {
     "data": {
      "text/plain": [
       "np.float64(3.6)"
      ]
     },
     "execution_count": 71,
     "metadata": {},
     "output_type": "execute_result"
    }
   ],
   "source": [
    "# take mean of sample rolls\n",
    "sample_mean = sample_rolls.mean().iloc[0]\n",
    "sample_mean"
   ]
  },
  {
   "cell_type": "code",
   "execution_count": 72,
   "id": "f6a35836-5a1e-4cc9-b9b1-b6c2552b04fe",
   "metadata": {},
   "outputs": [
    {
     "data": {
      "text/plain": [
       "[np.float64(2.911172910941585), np.float64(4.288827089058415)]"
      ]
     },
     "execution_count": 72,
     "metadata": {},
     "output_type": "execute_result"
    }
   ],
   "source": [
    "# get 95% confidence interval using CLT\n",
    "sample_std = sample_rolls.std().iloc[0]\n",
    "standard_error = sample_std / np.sqrt(30)\n",
    "ci_min = sample_mean - 2 * standard_error\n",
    "ci_max = sample_mean + 2 * standard_error\n",
    "ci = [ci_min, ci_max]\n",
    "ci"
   ]
  },
  {
   "cell_type": "code",
   "execution_count": 73,
   "id": "4495d4cd-0ecc-43d5-b379-7fd7fd561490",
   "metadata": {},
   "outputs": [],
   "source": [
    "# above indicates that 95% of the time, the sample mean will fall within this range\n",
    "# 95% of the time, a sample of rolls will have a mean of at least 2.97 and at most 4.3"
   ]
  },
  {
   "cell_type": "code",
   "execution_count": 74,
   "id": "fff54ce0-bb58-4bb1-9af5-d8b80aaea0c3",
   "metadata": {},
   "outputs": [
    {
     "data": {
      "text/plain": [
       "0.9618"
      ]
     },
     "execution_count": 74,
     "metadata": {},
     "output_type": "execute_result"
    }
   ],
   "source": [
    "sample_means = []\n",
    "\n",
    "for _ in range(10000):\n",
    "    sample_rolls = dice_df.sample(n=30, replace=True).reset_index(drop=True)\n",
    "    sample_mean = sample_rolls.mean().iloc[0]\n",
    "    sample_means.append(sample_mean)\n",
    "\n",
    "inside_ci = 0\n",
    "\n",
    "for sample_mean in sample_means:\n",
    "    if sample_mean >= ci[0] and sample_mean <= ci[1]:\n",
    "        inside_ci += 1\n",
    "\n",
    "inside_ci / len(sample_means)"
   ]
  },
  {
   "cell_type": "code",
   "execution_count": 75,
   "id": "779086a3-8707-4c19-beb9-324e5858f47e",
   "metadata": {},
   "outputs": [
    {
     "data": {
      "image/png": "[encoded data removed]",
      "text/plain": [
       "<Figure size 640x480 with 1 Axes>"
      ]
     },
     "metadata": {},
     "output_type": "display_data"
    }
   ],
   "source": [
    "fig, ax = plt.subplots()\n",
    "\n",
    "ax.hist(sample_means)\n",
    "ax.set_xlabel(\"Average roll value\")\n",
    "ax.set_ylabel(\"Frequency\")\n",
    "\n",
    "plt.show()"
   ]
  },
  {
   "cell_type": "code",
   "execution_count": null,
   "id": "fe8ea6e6-01d9-49a3-a59e-98be1221b0b9",
   "metadata": {},
   "outputs": [],
   "source": []
  }
 ],
 "metadata": {
  "kernelspec": {
   "display_name": "Python 3 (ipykernel)",
   "language": "python",
   "name": "python3"
  },
  "language_info": {
   "codemirror_mode": {
    "name": "ipython",
    "version": 3
   },
   "file_extension": ".py",
   "mimetype": "text/x-python",
   "name": "python",
   "nbconvert_exporter": "python",
   "pygments_lexer": "ipython3",
   "version": "3.11.9"
  }
 },
 "nbformat": 4,
 "nbformat_minor": 5
}
